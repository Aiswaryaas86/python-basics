{
  "nbformat": 4,
  "nbformat_minor": 0,
  "metadata": {
    "colab": {
      "provenance": [],
      "authorship_tag": "ABX9TyNu3tCENJ+/f3mP/tgynz24",
      "include_colab_link": true
    },
    "kernelspec": {
      "name": "python3",
      "display_name": "Python 3"
    },
    "language_info": {
      "name": "python"
    }
  },
  "cells": [
    {
      "cell_type": "markdown",
      "metadata": {
        "id": "view-in-github",
        "colab_type": "text"
      },
      "source": [
        "<a href=\"https://colab.research.google.com/github/Aiswaryaas86/python-basics/blob/main/python_15_programs.ipynb\" target=\"_parent\"><img src=\"https://colab.research.google.com/assets/colab-badge.svg\" alt=\"Open In Colab\"/></a>"
      ]
    },
    {
      "cell_type": "code",
      "execution_count": null,
      "metadata": {
        "colab": {
          "base_uri": "https://localhost:8080/"
        },
        "id": "_xFkWICRolGt",
        "outputId": "5daf74d5-5a5e-4feb-de3d-6ac743004f41"
      },
      "outputs": [
        {
          "output_type": "stream",
          "name": "stdout",
          "text": [
            "hello world\n"
          ]
        }
      ],
      "source": [
        "#program to print Hello World\n",
        "print(\"hello world\")\n"
      ]
    },
    {
      "cell_type": "code",
      "source": [
        "#Program to add two numbers\n",
        "a=int(input(\"Enter first number: \"))\n",
        "b=int(input(\"Enter the second number: \"))\n",
        "sum=a+b\n",
        "print(\"The sum =\",str(sum))"
      ],
      "metadata": {
        "colab": {
          "base_uri": "https://localhost:8080/"
        },
        "id": "5zhYiAUZoy3T",
        "outputId": "8cb9cd69-f6dd-4433-9b6f-26fbc61b61fc"
      },
      "execution_count": null,
      "outputs": [
        {
          "output_type": "stream",
          "name": "stdout",
          "text": [
            "Enter first number: 600\n",
            "Enter the second number: 4500\n",
            "The sum = 5100\n"
          ]
        }
      ]
    },
    {
      "cell_type": "code",
      "source": [
        "#To find square root of a number\n",
        "import cmath\n",
        "a=int(input(\"Enter the number: \"))\n",
        "s=cmath.sqrt(a)\n",
        "print(s)"
      ],
      "metadata": {
        "colab": {
          "base_uri": "https://localhost:8080/"
        },
        "id": "60KYOzEUpYQw",
        "outputId": "c53be87e-176e-4bb5-a774-e3bcde054485"
      },
      "execution_count": null,
      "outputs": [
        {
          "output_type": "stream",
          "name": "stdout",
          "text": [
            "Enter the number: 25\n",
            "(5+0j)\n"
          ]
        }
      ]
    },
    {
      "cell_type": "code",
      "source": [
        "#Program to find area of a triangle\n",
        "h=int(input(\"Enter the height: \"))\n",
        "b=int(input(\"Enter the base: \"))\n",
        "area=0.5*b*h\n",
        "print(area)"
      ],
      "metadata": {
        "colab": {
          "base_uri": "https://localhost:8080/"
        },
        "id": "q-7cmzQJp77d",
        "outputId": "40b80ffe-ad75-4ea9-cb1b-792e1afc2660"
      },
      "execution_count": null,
      "outputs": [
        {
          "output_type": "stream",
          "name": "stdout",
          "text": [
            "Enter the height: 10\n",
            "Enter the base: 2\n",
            "10.0\n"
          ]
        }
      ]
    },
    {
      "cell_type": "code",
      "source": [
        "#Program to find roots of a quadratic equation\n",
        "import cmath\n",
        "print(\"the equation is ax^2+bx+c\")\n",
        "a=int(input(\"Enter the value for a: \"))\n",
        "b=int(input(\"Enter the value for b: \"))\n",
        "c=int(input(\"Enter the value for c: \"))\n",
        "s=cmath.sqrt((b**2)-(4*a*c))\n",
        "rt1=(-b+s)/2*a\n",
        "rt2=(-b-s)/2*a\n",
        "print(\"The roots are: \",str(rt1),str(rt2))\n"
      ],
      "metadata": {
        "colab": {
          "base_uri": "https://localhost:8080/"
        },
        "id": "aRUcBNBoqZvc",
        "outputId": "92ec3bfd-beae-4ad5-fe46-6d141c600b22"
      },
      "execution_count": null,
      "outputs": [
        {
          "output_type": "stream",
          "name": "stdout",
          "text": [
            "the equation is ax^2+bx+c\n",
            "Enter the value for a: 2\n",
            "Enter the value for b: 5\n",
            "Enter the value for c: 2\n",
            "The roots are:  (-2+0j) (-8+0j)\n"
          ]
        }
      ]
    },
    {
      "cell_type": "code",
      "source": [
        "#Program to swap two numbers\n",
        "a=20\n",
        "b=30\n",
        "print(\"Before swapping\")\n",
        "print(\"a=\",str(a))\n",
        "print(\"b=\",str(b))\n",
        "temp=a\n",
        "a=b\n",
        "b=temp\n",
        "print(\"After swapping\")\n",
        "print(\"a=\",str(a))\n",
        "print(\"b=\",str(b))\n"
      ],
      "metadata": {
        "colab": {
          "base_uri": "https://localhost:8080/"
        },
        "id": "KECZwIyDuzFT",
        "outputId": "db3e476f-ef0c-432e-aa54-5678b1b0865a"
      },
      "execution_count": null,
      "outputs": [
        {
          "output_type": "stream",
          "name": "stdout",
          "text": [
            "Before swapping\n",
            "a= 20\n",
            "b= 30\n",
            "After swapping\n",
            "a= 30\n",
            "b= 20\n"
          ]
        }
      ]
    },
    {
      "cell_type": "code",
      "source": [
        "#Program to print a random number\n",
        "import random\n",
        "print(random.randrange(1,100000))"
      ],
      "metadata": {
        "colab": {
          "base_uri": "https://localhost:8080/"
        },
        "id": "Ts-YVgArwKXv",
        "outputId": "fcbb847a-b8a8-4f97-990f-488133173e90"
      },
      "execution_count": null,
      "outputs": [
        {
          "output_type": "stream",
          "name": "stdout",
          "text": [
            "68746\n"
          ]
        }
      ]
    },
    {
      "cell_type": "code",
      "source": [
        "km=int(input(\"Enter the kilometer: \"))\n",
        "miles=km/(1.609)\n",
        "print(miles)"
      ],
      "metadata": {
        "colab": {
          "base_uri": "https://localhost:8080/"
        },
        "id": "Uz8MNt-AwpP-",
        "outputId": "7a8f1b2a-811e-4dfa-de58-5c7037134d93"
      },
      "execution_count": null,
      "outputs": [
        {
          "output_type": "stream",
          "name": "stdout",
          "text": [
            "Enter the kilometer: 1\n",
            "0.6215040397762586\n"
          ]
        }
      ]
    },
    {
      "cell_type": "code",
      "source": [
        "#Program to convert celsius to farenheit\n",
        "c=int(input(\"Enter celsius scale: \"))\n",
        "f=((9/5)*c)+32\n",
        "print(\"f=\",str(f))"
      ],
      "metadata": {
        "colab": {
          "base_uri": "https://localhost:8080/"
        },
        "id": "wdubgSWOxGQo",
        "outputId": "507c1248-f8bc-498d-a5c3-1b49980e6a09"
      },
      "execution_count": null,
      "outputs": [
        {
          "output_type": "stream",
          "name": "stdout",
          "text": [
            "Enter celsius scale: 2\n",
            "f= 35.6\n"
          ]
        }
      ]
    },
    {
      "cell_type": "code",
      "source": [
        "#Program to check whether the number is positive or negative\n",
        "num=int(input(\"Enter the number: \"))\n",
        "if num>0:\n",
        "  print(\"greate than 0\")\n",
        "elif num<0:\n",
        "  print(\"less than 0\")\n",
        "else:\n",
        "  print(\"equals 0\")"
      ],
      "metadata": {
        "colab": {
          "base_uri": "https://localhost:8080/"
        },
        "id": "AaPsw0osxoF6",
        "outputId": "e5d81a27-64ac-47c0-a0e4-a62a6545206e"
      },
      "execution_count": null,
      "outputs": [
        {
          "output_type": "stream",
          "name": "stdout",
          "text": [
            "Enter the number: -5\n",
            "less than 0\n"
          ]
        }
      ]
    },
    {
      "cell_type": "code",
      "source": [
        "#Program to check whether the number is odd or even\n",
        "n=int(input(\"Enter a number: \"))\n",
        "if n%2==0:\n",
        "  print(\"number is even\")\n",
        "else:\n",
        "  print(\"number is odd\")"
      ],
      "metadata": {
        "colab": {
          "base_uri": "https://localhost:8080/"
        },
        "id": "f0R-kYDVyIHK",
        "outputId": "5c26e2bc-f234-4cc8-9940-de88e642faea"
      },
      "execution_count": null,
      "outputs": [
        {
          "output_type": "stream",
          "name": "stdout",
          "text": [
            "Enter a number: 0\n",
            "number is even\n"
          ]
        }
      ]
    },
    {
      "cell_type": "code",
      "source": [
        "#Program to check whether the year is leap year or not\n",
        "year=int(input(\"Enter a year:\"))\n",
        "if (year%4==0 and year%100!=0) or year%400==0:\n",
        "  print(\"The year is leap year\")\n",
        "else:\n",
        "  print(\"Not a leap year\")\n"
      ],
      "metadata": {
        "colab": {
          "base_uri": "https://localhost:8080/"
        },
        "id": "8AxRlYkwynde",
        "outputId": "a8319e33-69f4-4797-8ce9-b094dda6f822"
      },
      "execution_count": null,
      "outputs": [
        {
          "output_type": "stream",
          "name": "stdout",
          "text": [
            "Enter a year:1988\n",
            "The year is leap year\n"
          ]
        }
      ]
    },
    {
      "cell_type": "code",
      "source": [
        "#Program to find the largest among three numbers\n",
        "a=int(input(\"Enter first number: \"))\n",
        "b=int(input(\"Enter the second number: \"))\n",
        "c=int(input(\"Enter the third number: \"))\n",
        "if a>b and a>c:\n",
        "  print(\"The largest number is :\",str(a))\n",
        "elif b>c:\n",
        "  print(\"The largest number is: \",str(b))\n",
        "else:\n",
        "  print(\"The largest number is: \",str(c))"
      ],
      "metadata": {
        "colab": {
          "base_uri": "https://localhost:8080/"
        },
        "id": "OghV-xD00FSj",
        "outputId": "3bceb777-2634-40f7-80fd-3ea62e85301d"
      },
      "execution_count": null,
      "outputs": [
        {
          "output_type": "stream",
          "name": "stdout",
          "text": [
            "Enter first number: 20\n",
            "Enter the second number: 30\n",
            "Enter the third number: 40\n",
            "The largest number is:  40\n"
          ]
        }
      ]
    },
    {
      "cell_type": "code",
      "source": [
        "#Program to check whether the number is prime or not\n",
        "num=int(input(\"Enter a number: \"))\n",
        "if num>1:\n",
        "  for i in range(2,num):\n",
        "    if num%i==0:\n",
        "      print(\"Not Prime\")\n",
        "      break\n",
        "  else:\n",
        "    print(\"Prime\")\n",
        "elif num==1:\n",
        "  print(\"Neither prime nor composite\")\n",
        "else:\n",
        "  print(\"Negative number\")"
      ],
      "metadata": {
        "colab": {
          "base_uri": "https://localhost:8080/"
        },
        "id": "cp5UvSbB1Uvo",
        "outputId": "816eda39-5f13-4ec4-9e0a-64ab4ed31597"
      },
      "execution_count": 2,
      "outputs": [
        {
          "output_type": "stream",
          "name": "stdout",
          "text": [
            "Enter a number: -3\n",
            "Negative number\n"
          ]
        }
      ]
    },
    {
      "cell_type": "code",
      "source": [
        "#Program to list the prime numbers between an interval\n",
        "upper=int(input(\"Enter the upper limit\"))\n",
        "lower=int(input(\"Enter the lower limit\"))\n",
        "for i in range(lower,upper+1):\n",
        "  if i>1:\n",
        "    for j in range(2,i):\n",
        "      if i%j==0:\n",
        "        break\n",
        "    else:\n",
        "      print(i)\n",
        ""
      ],
      "metadata": {
        "colab": {
          "base_uri": "https://localhost:8080/"
        },
        "id": "-k4H2p5ZOaT0",
        "outputId": "332344bb-d776-4564-e967-bcb81dc1e5d9"
      },
      "execution_count": 3,
      "outputs": [
        {
          "output_type": "stream",
          "name": "stdout",
          "text": [
            "Enter the upper limit10\n",
            "Enter the lower limit1\n",
            "2\n",
            "3\n",
            "5\n",
            "7\n"
          ]
        }
      ]
    }
  ]
}